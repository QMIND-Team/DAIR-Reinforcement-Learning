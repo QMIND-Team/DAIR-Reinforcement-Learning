{
 "cells": [
  {
   "cell_type": "markdown",
   "metadata": {},
   "source": [
    "## TurtleBot3 Waffle Pi Manual Summary\n",
    "Prepared by Ted Ecclestone\n",
    "\n",
    "The purpose of this document is to summarize the following sections from the TurtleBot3 [e-Manual](http://emanual.robotis.com/docs/en/platform/turtlebot3/autonomous_driving/#autonomous-driving):\n",
    "\n",
    "13. Autonomous Driving\n",
    "14. Machine Learning"
   ]
  },
  {
   "cell_type": "markdown",
   "metadata": {},
   "source": [
    "### 13. Autonomous Driving\n",
    "\n",
    "##### 13.1 TurtleBot3 AutoRace\n",
    "\n",
    "AutoRace is a competition for autonomous robot driving platforms. Robots and the referee system are run with ROS. Referee system software is available [here](https://github.com/ROBOTIS-GIT/autorace_referee). CAD files of the map are available [here](https://github.com/ROBOTIS-GIT/autorace_track).\n",
    "\n",
    "##### 13.2 TurtleBot3 AutoRace Tutorials\n",
    "\n",
    "Discusses the various parts of the environment that the TurtleBot must utilize when traversing the track, such as the traffic lights, lanes, parking signs, etc. Discusses the hardware and software requirements for the bot. \n",
    "\n",
    "The AutoRace package is available [here](https://github.com/ROBOTIS-GIT/turtlebot3_autorace). It needs to be installed and used for tasks such as camera calibration. Instructions for such tasks are sequentially outlined in the e-Manual, so I won't outline them again here.\n",
    "\n",
    "##### 13.3 TurtleBot3 AutoRace Online Competition\n",
    "\n",
    "An online competition is being prepared to help participants learn about topics such as SLAM, navigation, etc. Details [here](http://emanual.robotis.com/docs/en/platform/turtlebot3/challenges/#online-competition-on-rds).\n",
    "\n",
    "##### 13.4 AutoRace RBIZ Challenge 2017\n",
    "\n",
    "No details are really provided in this section. It just seems like a specific instance of the AutoRace competition.\n",
    "\n",
    "##### 13.5 AutoRace RBIZ Challenge 2018\n",
    "\n",
    "Same as the previous section.\n",
    "\n",
    "##### 13.6 AutoRace with Gazebo\n",
    "\n",
    "AutoRace is provided by Gazebo. Instructions on how to do so are provided sequentially on the e-Manual."
   ]
  },
  {
   "cell_type": "markdown",
   "metadata": {},
   "source": [
    "### 14. Machine Learning\n",
    "\n",
    "This section covers the application of reinforcement learning with DQN (Deep Q-learning networks). [Here](https://www.analyticsvidhya.com/blog/2019/04/introduction-deep-q-learning-python/) is an article which provides an overview of DQN.\n",
    "\n",
    "The tutorial covered in this section is summarized below.\n",
    "\n",
    "##### 14.1 Installation\n",
    "\n",
    "This tutorial requires the use of TensorFlow, Keras, and Anaconda with Ubuntu 16.04 and ROS kinetic. Instructions for all downloads are given in this section.\n",
    "\n",
    "##### 14.2 Set Parameters\n",
    "\n",
    "The goal of DQN is to allow the agent to avoid all obstacles in its environment. The process involves:\n",
    "\n",
    "1. Setting state describing current situation of the agent within its environment.\n",
    "2. Set an action.\n",
    "3. Set a reward for the action.\n",
    "4. Set hyper parameters, such as the time step for an episode, etc. (others are listed in the e-Manual).\n",
    "\n",
    "##### 14.3 Run Machine Learning\n",
    "\n",
    "This section doesn't provide too much insight into how it is actually run. It simply displays the robot within an increasingly complex environment."
   ]
  },
  {
   "cell_type": "code",
   "execution_count": null,
   "metadata": {
    "collapsed": true
   },
   "outputs": [],
   "source": []
  }
 ],
 "metadata": {
  "kernelspec": {
   "display_name": "Python 3",
   "language": "python",
   "name": "python3"
  },
  "language_info": {
   "codemirror_mode": {
    "name": "ipython",
    "version": 3
   },
   "file_extension": ".py",
   "mimetype": "text/x-python",
   "name": "python",
   "nbconvert_exporter": "python",
   "pygments_lexer": "ipython3",
   "version": "3.6.3"
  }
 },
 "nbformat": 4,
 "nbformat_minor": 2
}
