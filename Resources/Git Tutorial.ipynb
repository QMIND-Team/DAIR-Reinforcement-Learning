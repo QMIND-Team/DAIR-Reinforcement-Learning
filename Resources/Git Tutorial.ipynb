{
 "cells": [
  {
   "cell_type": "markdown",
   "metadata": {},
   "source": [
    "Written by Sam Cantor for the QMIND DAIR Reinforcement Learning Team\n",
    "\n",
    "Based off [Git Documentation](https://git-scm.com/) and [Atlassian tutorial](https://www.atlassian.com/git/tutorials)"
   ]
  },
  {
   "cell_type": "markdown",
   "metadata": {},
   "source": [
    "# Git Tutorial \n",
    "\n",
    "\n",
    "## Introduction\n",
    "Git is an extremely useful and powerful tool to be used in an agile team, and will be one of the most important resources used on this team. Although we will only be using the basic features of Git, it is important to know how it works on a low-level so that we can effectively and safely navigate our repository. It may seem daunting at first, but once you get the hang of it I promise Git will be your best friend :)\n",
    "\n",
    "## Topics Covered in this Notebook:\n",
    "* Introduction to Version Control and Git\n",
    "* How to navigate and use the GitHub interface\n",
    "* Git Bash and simple commands for version control"
   ]
  },
  {
   "cell_type": "markdown",
   "metadata": {},
   "source": [
    "## 1. Version Control & Git\n",
    "\n",
    "### 1.1 What is Version Control\n",
    "Version control is a type of system that help manage changes to source code over time.\n",
    "\n",
    "### 1.2 What is Git\n",
    "Git is a distributed version control system\n",
    "\n",
    "### 1.3 Purpose of Git for our project\n",
    "To share code!\n",
    "\n",
    "\n",
    "`Split these up into multiple cells later...`"
   ]
  },
  {
   "cell_type": "markdown",
   "metadata": {},
   "source": [
    "## 2. GitHub\n",
    "\n",
    "### 2.1 Overview of GitHub software and GUI\n"
   ]
  },
  {
   "cell_type": "markdown",
   "metadata": {},
   "source": [
    "## 3. Git Command and Git Bash\n",
    "\n",
    "### 3.1 Making changes to respositories\n",
    "* `git push`\n",
    "* `git pull`\n",
    "* `git add`, `git commit`\n",
    "\n",
    "### 3.2 Branching\n",
    "* `git checkout`\n",
    "* `git fetch origin`\n",
    "\n",
    "### 3.3 Pull Re"
   ]
  },
  {
   "cell_type": "code",
   "execution_count": null,
   "metadata": {},
   "outputs": [],
   "source": []
  }
 ],
 "metadata": {
  "kernelspec": {
   "display_name": "Python 3",
   "language": "python",
   "name": "python3"
  },
  "language_info": {
   "codemirror_mode": {
    "name": "ipython",
    "version": 3
   },
   "file_extension": ".py",
   "mimetype": "text/x-python",
   "name": "python",
   "nbconvert_exporter": "python",
   "pygments_lexer": "ipython3",
   "version": "3.6.8"
  }
 },
 "nbformat": 4,
 "nbformat_minor": 2
}
