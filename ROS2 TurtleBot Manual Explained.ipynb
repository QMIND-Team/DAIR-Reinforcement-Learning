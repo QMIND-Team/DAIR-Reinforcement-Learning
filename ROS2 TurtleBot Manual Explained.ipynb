{
 "cells": [
  {
   "cell_type": "markdown",
   "metadata": {},
   "source": [
    "# Ros2 TurtleBot Explained - Adam\n",
    "\n",
    "http://emanual.robotis.com/docs/en/platform/turtlebot3/ros2/#ros2\n",
    "\n",
    "---"
   ]
  },
  {
   "cell_type": "markdown",
   "metadata": {},
   "source": [
    "### Setup\n",
    "\n",
    "#### Installation Requirements\n",
    "\n",
    "1. Ubuntu on Remote PC\n",
    "2. Install ROS 2\n",
    "3. Install Dependency Packages\n",
    "4. Install TurtleBot3 ROS 2 Packages\n",
    "5. Save Bash Command for Setup\n",
    "\n",
    "\n",
    "#### SBC Setup\n",
    "(Installing ROS on TurtleBot and setting up connection to it with remote PC)\n",
    "http://emanual.robotis.com/docs/en/platform/turtlebot3/ros2/#sbc-setup\n",
    "\n",
    " #### OpenCR Setp (Open Sourse Control Module for ROS)\n",
    "http://emanual.robotis.com/docs/en/platform/turtlebot3/ros2/#opencr-setup\n",
    "\n",
    "___Perhaps Jeremy has gone through and done/explained this all already. If not, we should try to meet and work through this as setup can be tedious, annoying, and full of bugs if not done correctly.___\n",
    "\n",
    "---"
   ]
  },
  {
   "attachments": {
    "image.png": {
     "image/png": "[encoded data removed]"
    }
   },
   "cell_type": "markdown",
   "metadata": {},
   "source": [
    "### Starting TurtleBot3\n",
    "\n",
    "#### Launch\n",
    "\n",
    "On the SBC (Single-Board Computer), the pi, in the shell type:\n",
    "\n",
    "![image.png](attachment:image.png)\n",
    "\n",
    "where ${**TB3_MODEL**} refers to the model type. In our case it will be **\"waffle_pi\"**\n",
    "\n",
    "If successful:\n",
    "<img src=\"files/img/d333a9796a9fed9972978877c1dc53b4.png\">\n",
    "you can then type:\n",
    "    **\"ros2 topic list\"** and **\"ros2 service list\"**\n",
    "to list the topics and services\n",
    "    \n",
    "To open the graphical interface RViz2:\n",
    "<img src=\"files/img/RViz2.png\">\n",
    "\n",
    "---"
   ]
  },
  {
   "cell_type": "markdown",
   "metadata": {},
   "source": [
    "### Teleoperation\n",
    "\n",
    "You can operate the TurtleBot from your pc running the following command (Must set the turtle bot model before** as seen in \"Starting the TurtleBot\" above)\n",
    "\n",
    "Run:\n",
    "<img src=\"files/img/teleoperation.png\">\n",
    "Output:\n",
    "<img src=\"files/img/teleoperationOutput.png\">\n",
    "\n",
    "you can now control it from your PC!\n",
    "\n",
    "---"
   ]
  },
  {
   "cell_type": "markdown",
   "metadata": {},
   "source": [
    "### Cartographer\n",
    "\n",
    "#### Running SLAM Nodes - (Simultaneous Localization And Mapping)\n",
    "<img src=\"files/img/slam.png\">\n",
    "\n",
    "After navigating with the teleoperation and mapping with the cartographer, one can save the map created:\n",
    "<img src=\"files/img/mapSave.png\">\n",
    "\n",
    "---\n",
    "\n",
    "## Full Example of Launching with Teleoperation & Cartographer\n",
    "Click the WafflePi for a super cool example\n",
    "<a href=\"https://www.youtube.com/watch?v=pJNSxDodhDk\n",
    "\" target=\"_blank\"><img src=\"https://s3-eu-west-1.amazonaws.com/robosavvy/prodImages/turtlebot3/turtlebotPi.jpg\" \n",
    "alt=\"IMAGE ALT TEXT HERE\" width=\"240\" height=\"180\" border=\"10\" /></a>"
   ]
  },
  {
   "cell_type": "code",
   "execution_count": null,
   "metadata": {},
   "outputs": [],
   "source": []
  }
 ],
 "metadata": {
  "kernelspec": {
   "display_name": "Python 3",
   "language": "python",
   "name": "python3"
  },
  "language_info": {
   "codemirror_mode": {
    "name": "ipython",
    "version": 3
   },
   "file_extension": ".py",
   "mimetype": "text/x-python",
   "name": "python",
   "nbconvert_exporter": "python",
   "pygments_lexer": "ipython3",
   "version": "3.7.5"
  }
 },
 "nbformat": 4,
 "nbformat_minor": 2
}
