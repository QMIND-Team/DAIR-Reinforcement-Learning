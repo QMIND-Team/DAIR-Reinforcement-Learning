{
 "cells": [
  {
   "cell_type": "markdown",
   "metadata": {},
   "source": [
    "# Lex Fridman's Deep Learning Class - Summarized by Adam Cooke\n",
    "---\n",
    "\n",
    "This Notebook will contain a highlevel summary of Lex's Classes on Deep Learning available below:\n",
    "\n",
    "<a href=\"https://www.youtube.com/watch?v=O5xeyoRL95U&list=PLrAXtmErZgOeiKm4sgNOknGvNjby9efdf\n",
    "\" target=\"_blank\"><img src=\"https://i.ytimg.com/vi/O5xeyoRL95U/hqdefault.jpg?sqp=-oaymwEXCNACELwBSFryq4qpAwkIARUAAIhCGAE=&rs=AOn4CLDyVCJvCfXew719br2bY-QKgRbKog\" \n",
    "alt=\"IMAGE ALT TEXT HERE\" width=\"240\" height=\"180\" border=\"10\" /></a>\n",
    "\n",
    "\n",
    "Additionally, it will contains analyses and summaries of some of the topics he discusses. For more information regarding the course and deep learning, please consult the <a href=https://deeplearning.mit.edu/>course website</a>, the course <a href=https://github.com/lexfridman/mit-deep-learning>GitHub page</a>, or the <a href=https://medium.com/tensorflow/mit-deep-learning-basics-introduction-and-overview-with-tensorflow-355bcd26baf0>Medium Blog</a>.\n",
    "\n",
    "---\n"
   ]
  },
  {
   "cell_type": "markdown",
   "metadata": {},
   "source": [
    "## Deep Learning at a Glance\n",
    "\n",
    "\n",
    "<a href=\"https://medium.com/tensorflow/mit-deep-learning-basics-introduction-and-overview-with-tensorflow-355bcd26baf0\"><img src=\"https://miro.medium.com/max/4255/1*rW2dVdBKjMVs4XQJKm0UIg.png\" /></a>"
   ]
  },
  {
   "cell_type": "markdown",
   "metadata": {},
   "source": [
    "---\n",
    "\n",
    "#### Loss Functions\n",
    "\n",
    "- Function that quantifies gap between predicition and ground truth\n",
    "    \n",
    "#### Backpropogation\n",
    "- Updates weights and biases to decrease **loss function**\n",
    "    - Weights responsible for correct output are increased\n",
    "    - Weights responsible for incorrect output are decreased"
   ]
  },
  {
   "cell_type": "markdown",
   "metadata": {},
   "source": [
    "playground.tensorflow.org\n"
   ]
  }
 ],
 "metadata": {
  "kernelspec": {
   "display_name": "Python 3",
   "language": "python",
   "name": "python3"
  },
  "language_info": {
   "codemirror_mode": {
    "name": "ipython",
    "version": 3
   },
   "file_extension": ".py",
   "mimetype": "text/x-python",
   "name": "python",
   "nbconvert_exporter": "python",
   "pygments_lexer": "ipython3",
   "version": "3.7.5"
  }
 },
 "nbformat": 4,
 "nbformat_minor": 2
}
